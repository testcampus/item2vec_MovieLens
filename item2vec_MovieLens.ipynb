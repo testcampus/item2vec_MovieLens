{
  "nbformat": 4,
  "nbformat_minor": 0,
  "metadata": {
    "colab": {
      "provenance": []
    },
    "kernelspec": {
      "name": "python3",
      "display_name": "Python 3"
    },
    "language_info": {
      "name": "python"
    }
  },
  "cells": [
    {
      "cell_type": "code",
      "execution_count": 1,
      "metadata": {
        "colab": {
          "base_uri": "https://localhost:8080/"
        },
        "id": "sqLdNDXGKV4o",
        "outputId": "f749778a-3b68-4670-eb4d-9bdbe3f7a493"
      },
      "outputs": [
        {
          "output_type": "stream",
          "name": "stdout",
          "text": [
            "--2023-09-06 06:24:27--  https://files.grouplens.org/datasets/movielens/ml-10m.zip\n",
            "Resolving files.grouplens.org (files.grouplens.org)... 128.101.65.152\n",
            "Connecting to files.grouplens.org (files.grouplens.org)|128.101.65.152|:443... connected.\n",
            "HTTP request sent, awaiting response... 200 OK\n",
            "Length: 65566137 (63M) [application/zip]\n",
            "Saving to: ‘../data/ml-10m.zip’\n",
            "\n",
            "ml-10m.zip          100%[===================>]  62.53M  36.6MB/s    in 1.7s    \n",
            "\n",
            "2023-09-06 06:24:29 (36.6 MB/s) - ‘../data/ml-10m.zip’ saved [65566137/65566137]\n",
            "\n",
            "Archive:  ../data/ml-10m.zip\n",
            "   creating: ../data/ml-10M100K/\n",
            "  inflating: ../data/ml-10M100K/allbut.pl  \n",
            "  inflating: ../data/ml-10M100K/movies.dat  \n",
            "  inflating: ../data/ml-10M100K/ratings.dat  \n",
            "  inflating: ../data/ml-10M100K/README.html  \n",
            "  inflating: ../data/ml-10M100K/split_ratings.sh  \n",
            "  inflating: ../data/ml-10M100K/tags.dat  \n"
          ]
        }
      ],
      "source": [
        "# データのダウンロードと解凍\n",
        "!wget -nc --no-check-certificate https://files.grouplens.org/datasets/movielens/ml-10m.zip -P ../data\n",
        "!unzip -n ../data/ml-10m.zip -d ../data/"
      ]
    },
    {
      "cell_type": "code",
      "source": [
        "# Movielensのデータの読み込み（データ量が多いため、読み込みに時間がかかる場合があります）\n",
        "import pandas as pd\n",
        "\n",
        "# movieIDとタイトル名のみ使用\n",
        "m_cols = ['movie_id', 'title', 'genre']\n",
        "movies = pd.read_csv('../data/ml-10M100K/movies.dat', names=m_cols, sep='::' , encoding='latin-1', engine='python')\n",
        "\n",
        "# genreをlist形式で保持する\n",
        "movies['genre'] = movies.genre.apply(lambda x:x.split('|'))\n",
        "\n",
        "# ユーザが付与した映画のタグ情報の読み込み\n",
        "t_cols = ['user_id', 'movie_id', 'tag', 'timestamp']\n",
        "user_tagged_movies = pd.read_csv('../data/ml-10M100K/tags.dat', names=t_cols, sep='::', engine='python')\n",
        "\n",
        "# tagを小文字にする\n",
        "user_tagged_movies['tag'] = user_tagged_movies['tag'].str.lower()\n",
        "\n",
        "# tagを映画ごとにlist形式で保持する\n",
        "movie_tags = user_tagged_movies.groupby('movie_id').agg({'tag':list})\n",
        "\n",
        "# タグ情報を結合する\n",
        "movies = movies.merge(movie_tags, on='movie_id', how='left')\n",
        "\n",
        "# 評価値データの読み込み\n",
        "r_cols = ['user_id', 'movie_id', 'rating', 'timestamp']\n",
        "ratings = pd.read_csv('../data/ml-10M100K/ratings.dat', names=r_cols, sep='::', engine='python')\n",
        "\n",
        "# データ量が多いため、ユーザー数を1000に絞る\n",
        "valid_user_ids = sorted(ratings.user_id.unique())[:1000]\n",
        "ratings = ratings[ratings[\"user_id\"].isin(valid_user_ids)]\n",
        "\n",
        "# 映画のデータと評価のデータを結合する\n",
        "movielens = ratings.merge(movies, on='movie_id')\n",
        "\n",
        "print(f'unique_users={len(movielens.user_id.unique())}, unique_movies={len(movielens.movie_id.unique())}')\n",
        "\n",
        "# 学習用とテスト用にデータを分割する\n",
        "# 各ユーザの直近の５件の映画を評価用に使い、それ以外を学習用とする\n",
        "# まずは、それぞれのユーザが評価した映画の順序を計算する\n",
        "# 直近付与した映画から順番を付与していく(1始まり)\n",
        "\n",
        "movielens['timestamp_rank'] = movielens.groupby(\n",
        "    'user_id')['timestamp'].rank(ascending=False, method='first')\n",
        "movielens_train = movielens[movielens['timestamp_rank'] > 5]\n",
        "movielens_test = movielens[movielens['timestamp_rank']<= 5]"
      ],
      "metadata": {
        "colab": {
          "base_uri": "https://localhost:8080/"
        },
        "id": "B57bhaeHKdqk",
        "outputId": "9bf6415c-6bd2-4e5c-f3a0-b57905693a84"
      },
      "execution_count": 2,
      "outputs": [
        {
          "output_type": "stream",
          "name": "stdout",
          "text": [
            "unique_users=1000, unique_movies=6736\n"
          ]
        }
      ]
    },
    {
      "cell_type": "code",
      "source": [
        "# 因子数\n",
        "factors = 100\n",
        "# エポック数\n",
        "n_epochs = 30\n",
        "# windowサイズ\n",
        "window = 100\n",
        "# スキップグラム\n",
        "use_skip_gram = 1\n",
        "# 階層的ソフトマックス\n",
        "use_hierarchial_softmax = 0\n",
        "# 使用する単語の出現回数のしきい値\n",
        "min_count = 5"
      ],
      "metadata": {
        "id": "Mvn9HgPeKmyi"
      },
      "execution_count": 3,
      "outputs": []
    },
    {
      "cell_type": "code",
      "source": [
        "# item2vecのインプットに使うデータの生成\n",
        "item2vec_data = []\n",
        "movielens_train_high_rating = movielens_train[movielens_train.rating >= 4]\n",
        "for user_id, data in movielens_train_high_rating.groupby(\"user_id\"):\n",
        "    # 評価された順に並び替える\n",
        "    # item2vecではwindowというパラメータがあり、itemの評価された順番も重要な要素となる\n",
        "    item2vec_data.append(data.sort_values(\"timestamp\")[\"movie_id\"].tolist())"
      ],
      "metadata": {
        "id": "aoVy0etPKrH5"
      },
      "execution_count": 4,
      "outputs": []
    },
    {
      "cell_type": "code",
      "source": [
        "!pip install gensim"
      ],
      "metadata": {
        "colab": {
          "base_uri": "https://localhost:8080/"
        },
        "id": "Nn1Ue0T4KrRi",
        "outputId": "4fb1a4b5-b3fe-452b-9ea7-5a311d5eba1d"
      },
      "execution_count": 5,
      "outputs": [
        {
          "output_type": "stream",
          "name": "stdout",
          "text": [
            "Requirement already satisfied: gensim in /usr/local/lib/python3.10/dist-packages (4.3.1)\n",
            "Requirement already satisfied: numpy>=1.18.5 in /usr/local/lib/python3.10/dist-packages (from gensim) (1.23.5)\n",
            "Requirement already satisfied: scipy>=1.7.0 in /usr/local/lib/python3.10/dist-packages (from gensim) (1.10.1)\n",
            "Requirement already satisfied: smart-open>=1.8.1 in /usr/local/lib/python3.10/dist-packages (from gensim) (6.3.0)\n"
          ]
        }
      ]
    },
    {
      "cell_type": "code",
      "source": [
        "import gensim\n",
        "\n",
        "# item2vecの学習\n",
        "model = gensim.models.word2vec.Word2Vec(\n",
        "    item2vec_data,\n",
        "    vector_size=factors,\n",
        "    window=window,\n",
        "    sg=use_skip_gram,\n",
        "    hs=use_hierarchial_softmax,\n",
        "    epochs=n_epochs,\n",
        "    min_count=min_count,\n",
        ")"
      ],
      "metadata": {
        "id": "kG24hhO8Kufl"
      },
      "execution_count": 6,
      "outputs": []
    },
    {
      "cell_type": "code",
      "source": [
        "from google.colab import drive\n",
        "drive.mount('/content/drive')"
      ],
      "metadata": {
        "id": "kN5wk4oJKw4A"
      },
      "execution_count": null,
      "outputs": []
    },
    {
      "cell_type": "code",
      "source": [
        "model.save(\"drive/My Drive/Colab Notebooks/item2vec.model\")"
      ],
      "metadata": {
        "id": "zAw6iF2QKzKL"
      },
      "execution_count": null,
      "outputs": []
    }
  ]
}